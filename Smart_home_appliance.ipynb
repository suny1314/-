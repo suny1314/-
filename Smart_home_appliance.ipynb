{
  "cells": [
    {
      "cell_type": "code",
      "execution_count": null,
      "metadata": {
        "colab": {
          "base_uri": "https://localhost:8080/"
        },
        "id": "igvTjd0P8v1G",
        "outputId": "fba64d16-4fdb-4e23-d259-018f70c31c00"
      },
      "outputs": [
        {
          "name": "stdout",
          "output_type": "stream",
          "text": [
            "%pylab is deprecated, use %matplotlib inline and import the required libraries.\n",
            "Populating the interactive namespace from numpy and matplotlib\n"
          ]
        }
      ],
      "source": [
        "%pylab inline"
      ]
    },
    {
      "cell_type": "markdown",
      "metadata": {
        "id": "WptEU-P0qtO8"
      },
      "source": [
        "Connect to google drive"
      ]
    },
    {
      "cell_type": "code",
      "execution_count": null,
      "metadata": {
        "id": "7aTGfOX28v1H"
      },
      "outputs": [],
      "source": [
        "import numpy as np\n",
        "import pandas as pd\n",
        "import sys\n",
        "sys.path.append('ideal')\n",
        "from IdealDataInterface import IdealDataInterface"
      ]
    },
    {
      "cell_type": "markdown",
      "metadata": {
        "id": "N-bUgmpE8v1I"
      },
      "source": [
        "### Read the ideal data from the folder"
      ]
    },
    {
      "cell_type": "code",
      "execution_count": null,
      "metadata": {
        "colab": {
          "base_uri": "https://localhost:8080/"
        },
        "id": "DxKC9-RA8v1I",
        "outputId": "f292a020-3644-4792-dbe5-446851bfa3d1"
      },
      "outputs": [
        {
          "name": "stdout",
          "output_type": "stream",
          "text": [
            "Found entries for 219 sensor readings.\n"
          ]
        }
      ],
      "source": [
        "folder_path = 'ideal/'\n",
        "ideal = IdealDataInterface(folder_path)"
      ]
    },
    {
      "cell_type": "code",
      "execution_count": null,
      "metadata": {
        "id": "JfK7ekJdIfWk",
        "outputId": "99eb411d-1524-40c1-8ae0-044f4f23e929"
      },
      "outputs": [
        {
          "name": "stdout",
          "output_type": "stream",
          "text": [
            "Found entries for 219 sensor readings.\n"
          ]
        }
      ],
      "source": [
        "from activations.calculate_activations import convert_activations_to_wall_time\n",
        "from activations.calculate_activations import get_appliance_activations\n",
        "from activations.calculate_activations import normalise_activations\n",
        "from activations.calculate_daily_activations import get_daily_activations\n",
        "\n",
        "from activations.calculate_daily_activations import detect_daily_appliance_activations\n",
        "from activations.calculate_activations import get_appliance_activations\n",
        "\n"
      ]
    },
    {
      "cell_type": "markdown",
      "metadata": {
        "id": "cG6wuC0b8v1J"
      },
      "source": [
        "### Get the data"
      ]
    },
    {
      "cell_type": "code",
      "execution_count": null,
      "metadata": {
        "id": "OYi0BKPnZ3jl"
      },
      "outputs": [],
      "source": [
        "data=ideal.get()"
      ]
    },
    {
      "cell_type": "code",
      "execution_count": null,
      "metadata": {
        "colab": {
          "base_uri": "https://localhost:8080/"
        },
        "id": "nkUcYalUcIa8",
        "outputId": "b125bd90-e4b3-4124-8adb-78448fe14662"
      },
      "outputs": [
        {
          "data": {
            "text/plain": [
              "219"
            ]
          },
          "execution_count": 6,
          "metadata": {},
          "output_type": "execute_result"
        }
      ],
      "source": [
        "len(data)"
      ]
    },
    {
      "cell_type": "code",
      "execution_count": null,
      "metadata": {
        "colab": {
          "base_uri": "https://localhost:8080/"
        },
        "id": "gF_bbwY0cLMD",
        "outputId": "a6f0de26-4035-4389-f3c0-227b5b2ce536"
      },
      "outputs": [
        {
          "data": {
            "text/plain": [
              "{'homeid': '106',\n",
              " 'roomid': '1085',\n",
              " 'room_type': 'kitchen',\n",
              " 'category': 'electric-appliance',\n",
              " 'subtype': 'microwave',\n",
              " 'sensorid': '5211',\n",
              " 'readings': time\n",
              " 2017-05-17 18:46:01      0\n",
              " 2017-05-17 18:46:02      0\n",
              " 2017-05-17 18:47:53      0\n",
              " 2017-05-17 18:47:54      0\n",
              " 2017-05-17 18:47:55    246\n",
              "                       ... \n",
              " 2018-06-14 07:28:06      0\n",
              " 2018-06-14 08:28:06      0\n",
              " 2018-06-14 09:28:06      0\n",
              " 2018-06-14 10:28:06      0\n",
              " 2018-06-14 11:28:06      0\n",
              " Name: microwave, Length: 10414, dtype: int64}"
            ]
          },
          "execution_count": 7,
          "metadata": {},
          "output_type": "execute_result"
        }
      ],
      "source": [
        "data[0]"
      ]
    },
    {
      "cell_type": "code",
      "execution_count": null,
      "metadata": {
        "colab": {
          "base_uri": "https://localhost:8080/",
          "height": 676
        },
        "id": "Rz_iZAV08v1J",
        "outputId": "834c0791-28a3-4c6d-fa79-da3188b39619"
      },
      "outputs": [
        {
          "data": {
            "text/html": [
              "<div>\n",
              "<style scoped>\n",
              "    .dataframe tbody tr th:only-of-type {\n",
              "        vertical-align: middle;\n",
              "    }\n",
              "\n",
              "    .dataframe tbody tr th {\n",
              "        vertical-align: top;\n",
              "    }\n",
              "\n",
              "    .dataframe thead th {\n",
              "        text-align: right;\n",
              "    }\n",
              "</style>\n",
              "<table border=\"1\" class=\"dataframe\">\n",
              "  <thead>\n",
              "    <tr style=\"text-align: right;\">\n",
              "      <th></th>\n",
              "      <th>homeid</th>\n",
              "      <th>roomid</th>\n",
              "      <th>room_type</th>\n",
              "      <th>category</th>\n",
              "      <th>subtype</th>\n",
              "      <th>sensorid</th>\n",
              "    </tr>\n",
              "  </thead>\n",
              "  <tbody>\n",
              "    <tr>\n",
              "      <th>0</th>\n",
              "      <td>73</td>\n",
              "      <td>781</td>\n",
              "      <td>kitchenliving</td>\n",
              "      <td>electric-appliance</td>\n",
              "      <td>washingmachine</td>\n",
              "      <td>4078</td>\n",
              "    </tr>\n",
              "    <tr>\n",
              "      <th>1</th>\n",
              "      <td>105</td>\n",
              "      <td>1110</td>\n",
              "      <td>kitchen</td>\n",
              "      <td>electric-appliance</td>\n",
              "      <td>washingmachine</td>\n",
              "      <td>5285</td>\n",
              "    </tr>\n",
              "    <tr>\n",
              "      <th>2</th>\n",
              "      <td>106</td>\n",
              "      <td>1085</td>\n",
              "      <td>kitchen</td>\n",
              "      <td>electric-appliance</td>\n",
              "      <td>washingmachine</td>\n",
              "      <td>5212</td>\n",
              "    </tr>\n",
              "    <tr>\n",
              "      <th>3</th>\n",
              "      <td>136</td>\n",
              "      <td>1294</td>\n",
              "      <td>kitchen</td>\n",
              "      <td>electric-appliance</td>\n",
              "      <td>washingmachine</td>\n",
              "      <td>9471</td>\n",
              "    </tr>\n",
              "    <tr>\n",
              "      <th>4</th>\n",
              "      <td>128</td>\n",
              "      <td>1253</td>\n",
              "      <td>kitchen</td>\n",
              "      <td>electric-appliance</td>\n",
              "      <td>washingmachine</td>\n",
              "      <td>13307</td>\n",
              "    </tr>\n",
              "    <tr>\n",
              "      <th>5</th>\n",
              "      <td>139</td>\n",
              "      <td>1315</td>\n",
              "      <td>kitchen</td>\n",
              "      <td>electric-appliance</td>\n",
              "      <td>washingmachine</td>\n",
              "      <td>13306</td>\n",
              "    </tr>\n",
              "    <tr>\n",
              "      <th>6</th>\n",
              "      <td>175</td>\n",
              "      <td>1636</td>\n",
              "      <td>diningroom</td>\n",
              "      <td>electric-appliance</td>\n",
              "      <td>washingmachine</td>\n",
              "      <td>11523</td>\n",
              "    </tr>\n",
              "    <tr>\n",
              "      <th>7</th>\n",
              "      <td>171</td>\n",
              "      <td>1565</td>\n",
              "      <td>kitchen</td>\n",
              "      <td>electric-appliance</td>\n",
              "      <td>washingmachine</td>\n",
              "      <td>11687</td>\n",
              "    </tr>\n",
              "    <tr>\n",
              "      <th>8</th>\n",
              "      <td>145</td>\n",
              "      <td>1349</td>\n",
              "      <td>kitchen</td>\n",
              "      <td>electric-appliance</td>\n",
              "      <td>washingmachine</td>\n",
              "      <td>14222</td>\n",
              "    </tr>\n",
              "    <tr>\n",
              "      <th>9</th>\n",
              "      <td>208</td>\n",
              "      <td>1935</td>\n",
              "      <td>kitchen</td>\n",
              "      <td>electric-appliance</td>\n",
              "      <td>washingmachine</td>\n",
              "      <td>18021</td>\n",
              "    </tr>\n",
              "    <tr>\n",
              "      <th>10</th>\n",
              "      <td>227</td>\n",
              "      <td>2103</td>\n",
              "      <td>kitchen</td>\n",
              "      <td>electric-appliance</td>\n",
              "      <td>washingmachine</td>\n",
              "      <td>16060</td>\n",
              "    </tr>\n",
              "    <tr>\n",
              "      <th>11</th>\n",
              "      <td>238</td>\n",
              "      <td>2202</td>\n",
              "      <td>kitchen</td>\n",
              "      <td>electric-appliance</td>\n",
              "      <td>washingmachine</td>\n",
              "      <td>21683</td>\n",
              "    </tr>\n",
              "    <tr>\n",
              "      <th>12</th>\n",
              "      <td>242</td>\n",
              "      <td>2241</td>\n",
              "      <td>utility</td>\n",
              "      <td>electric-appliance</td>\n",
              "      <td>washingmachine</td>\n",
              "      <td>18809</td>\n",
              "    </tr>\n",
              "    <tr>\n",
              "      <th>13</th>\n",
              "      <td>212</td>\n",
              "      <td>1968</td>\n",
              "      <td>hall</td>\n",
              "      <td>electric-appliance</td>\n",
              "      <td>washingmachine</td>\n",
              "      <td>15873</td>\n",
              "    </tr>\n",
              "    <tr>\n",
              "      <th>14</th>\n",
              "      <td>227</td>\n",
              "      <td>2103</td>\n",
              "      <td>kitchen</td>\n",
              "      <td>electric-appliance</td>\n",
              "      <td>washingmachine</td>\n",
              "      <td>18029</td>\n",
              "    </tr>\n",
              "    <tr>\n",
              "      <th>15</th>\n",
              "      <td>231</td>\n",
              "      <td>2147</td>\n",
              "      <td>kitchen</td>\n",
              "      <td>electric-appliance</td>\n",
              "      <td>washingmachine</td>\n",
              "      <td>19709</td>\n",
              "    </tr>\n",
              "    <tr>\n",
              "      <th>16</th>\n",
              "      <td>96</td>\n",
              "      <td>999</td>\n",
              "      <td>kitchen</td>\n",
              "      <td>electric-appliance</td>\n",
              "      <td>washingmachine</td>\n",
              "      <td>11254</td>\n",
              "    </tr>\n",
              "    <tr>\n",
              "      <th>17</th>\n",
              "      <td>228</td>\n",
              "      <td>2109</td>\n",
              "      <td>kitchen</td>\n",
              "      <td>electric-appliance</td>\n",
              "      <td>washingmachine</td>\n",
              "      <td>17329</td>\n",
              "    </tr>\n",
              "    <tr>\n",
              "      <th>18</th>\n",
              "      <td>268</td>\n",
              "      <td>2471</td>\n",
              "      <td>kitchen</td>\n",
              "      <td>electric-appliance</td>\n",
              "      <td>washingmachine</td>\n",
              "      <td>21624</td>\n",
              "    </tr>\n",
              "    <tr>\n",
              "      <th>19</th>\n",
              "      <td>65</td>\n",
              "      <td>733</td>\n",
              "      <td>kitchen</td>\n",
              "      <td>electric-appliance</td>\n",
              "      <td>washingmachine</td>\n",
              "      <td>3110</td>\n",
              "    </tr>\n",
              "    <tr>\n",
              "      <th>20</th>\n",
              "      <td>264</td>\n",
              "      <td>2437</td>\n",
              "      <td>kitchen</td>\n",
              "      <td>electric-appliance</td>\n",
              "      <td>washingmachine</td>\n",
              "      <td>20738</td>\n",
              "    </tr>\n",
              "    <tr>\n",
              "      <th>21</th>\n",
              "      <td>62</td>\n",
              "      <td>710</td>\n",
              "      <td>kitchen</td>\n",
              "      <td>electric-appliance</td>\n",
              "      <td>washingmachine</td>\n",
              "      <td>1781</td>\n",
              "    </tr>\n",
              "    <tr>\n",
              "      <th>22</th>\n",
              "      <td>255</td>\n",
              "      <td>2363</td>\n",
              "      <td>utility</td>\n",
              "      <td>electric-appliance</td>\n",
              "      <td>washingmachine</td>\n",
              "      <td>21618</td>\n",
              "    </tr>\n",
              "    <tr>\n",
              "      <th>23</th>\n",
              "      <td>311</td>\n",
              "      <td>2857</td>\n",
              "      <td>kitchen</td>\n",
              "      <td>electric-appliance</td>\n",
              "      <td>washingmachine</td>\n",
              "      <td>31435</td>\n",
              "    </tr>\n",
              "  </tbody>\n",
              "</table>\n",
              "</div>"
            ],
            "text/plain": [
              "   homeid roomid      room_type            category         subtype sensorid\n",
              "0      73    781  kitchenliving  electric-appliance  washingmachine     4078\n",
              "1     105   1110        kitchen  electric-appliance  washingmachine     5285\n",
              "2     106   1085        kitchen  electric-appliance  washingmachine     5212\n",
              "3     136   1294        kitchen  electric-appliance  washingmachine     9471\n",
              "4     128   1253        kitchen  electric-appliance  washingmachine    13307\n",
              "5     139   1315        kitchen  electric-appliance  washingmachine    13306\n",
              "6     175   1636     diningroom  electric-appliance  washingmachine    11523\n",
              "7     171   1565        kitchen  electric-appliance  washingmachine    11687\n",
              "8     145   1349        kitchen  electric-appliance  washingmachine    14222\n",
              "9     208   1935        kitchen  electric-appliance  washingmachine    18021\n",
              "10    227   2103        kitchen  electric-appliance  washingmachine    16060\n",
              "11    238   2202        kitchen  electric-appliance  washingmachine    21683\n",
              "12    242   2241        utility  electric-appliance  washingmachine    18809\n",
              "13    212   1968           hall  electric-appliance  washingmachine    15873\n",
              "14    227   2103        kitchen  electric-appliance  washingmachine    18029\n",
              "15    231   2147        kitchen  electric-appliance  washingmachine    19709\n",
              "16     96    999        kitchen  electric-appliance  washingmachine    11254\n",
              "17    228   2109        kitchen  electric-appliance  washingmachine    17329\n",
              "18    268   2471        kitchen  electric-appliance  washingmachine    21624\n",
              "19     65    733        kitchen  electric-appliance  washingmachine     3110\n",
              "20    264   2437        kitchen  electric-appliance  washingmachine    20738\n",
              "21     62    710        kitchen  electric-appliance  washingmachine     1781\n",
              "22    255   2363        utility  electric-appliance  washingmachine    21618\n",
              "23    311   2857        kitchen  electric-appliance  washingmachine    31435"
            ]
          },
          "execution_count": 3,
          "metadata": {},
          "output_type": "execute_result"
        }
      ],
      "source": [
        "ideal.view(subtype='washingmachine')"
      ]
    },
    {
      "cell_type": "code",
      "execution_count": null,
      "metadata": {
        "colab": {
          "base_uri": "https://localhost:8080/",
          "height": 138
        },
        "id": "8bXCOEGG8v1J",
        "outputId": "b2c476d5-e00c-401a-e52a-2938b1c7a463"
      },
      "outputs": [
        {
          "name": "stderr",
          "output_type": "stream",
          "text": [
            "/content/drive/MyDrive/ideal/IdealDataInterface.py:116: FutureWarning: The behavior of indexing on a MultiIndex with a nested sequence of labels is deprecated and will change in a future version. `series.loc[label, sequence]` will raise if any members of 'sequence' or not present in the index's second level. To retain the old behavior, use `series.index.isin(sequence, level=1)`\n",
            "  return self.sensorid_mapping.loc(axis=0)[homeid, roomid, room_type, category, subtype, sensorid, filename].to_frame().T\n",
            "/content/drive/MyDrive/ideal/IdealDataInterface.py:118: FutureWarning: The behavior of indexing on a MultiIndex with a nested sequence of labels is deprecated and will change in a future version. `series.loc[label, sequence]` will raise if any members of 'sequence' or not present in the index's second level. To retain the old behavior, use `series.index.isin(sequence, level=1)`\n",
            "  return self.sensorid_mapping.loc(axis=0)[homeid, roomid, room_type, category, subtype, sensorid, filename]\n"
          ]
        },
        {
          "data": {
            "text/html": [
              "\n",
              "  <div id=\"df-ad5663b5-0440-4b3d-9325-3259e28aebcb\">\n",
              "    <div class=\"colab-df-container\">\n",
              "      <div>\n",
              "<style scoped>\n",
              "    .dataframe tbody tr th:only-of-type {\n",
              "        vertical-align: middle;\n",
              "    }\n",
              "\n",
              "    .dataframe tbody tr th {\n",
              "        vertical-align: top;\n",
              "    }\n",
              "\n",
              "    .dataframe thead th {\n",
              "        text-align: right;\n",
              "    }\n",
              "</style>\n",
              "<table border=\"1\" class=\"dataframe\">\n",
              "  <thead>\n",
              "    <tr style=\"text-align: right;\">\n",
              "      <th></th>\n",
              "      <th>homeid</th>\n",
              "      <th>roomid</th>\n",
              "      <th>room_type</th>\n",
              "      <th>category</th>\n",
              "      <th>subtype</th>\n",
              "      <th>sensorid</th>\n",
              "    </tr>\n",
              "  </thead>\n",
              "  <tbody>\n",
              "  </tbody>\n",
              "</table>\n",
              "</div>\n",
              "      <button class=\"colab-df-convert\" onclick=\"convertToInteractive('df-ad5663b5-0440-4b3d-9325-3259e28aebcb')\"\n",
              "              title=\"Convert this dataframe to an interactive table.\"\n",
              "              style=\"display:none;\">\n",
              "        \n",
              "  <svg xmlns=\"http://www.w3.org/2000/svg\" height=\"24px\"viewBox=\"0 0 24 24\"\n",
              "       width=\"24px\">\n",
              "    <path d=\"M0 0h24v24H0V0z\" fill=\"none\"/>\n",
              "    <path d=\"M18.56 5.44l.94 2.06.94-2.06 2.06-.94-2.06-.94-.94-2.06-.94 2.06-2.06.94zm-11 1L8.5 8.5l.94-2.06 2.06-.94-2.06-.94L8.5 2.5l-.94 2.06-2.06.94zm10 10l.94 2.06.94-2.06 2.06-.94-2.06-.94-.94-2.06-.94 2.06-2.06.94z\"/><path d=\"M17.41 7.96l-1.37-1.37c-.4-.4-.92-.59-1.43-.59-.52 0-1.04.2-1.43.59L10.3 9.45l-7.72 7.72c-.78.78-.78 2.05 0 2.83L4 21.41c.39.39.9.59 1.41.59.51 0 1.02-.2 1.41-.59l7.78-7.78 2.81-2.81c.8-.78.8-2.07 0-2.86zM5.41 20L4 18.59l7.72-7.72 1.47 1.35L5.41 20z\"/>\n",
              "  </svg>\n",
              "      </button>\n",
              "      \n",
              "  <style>\n",
              "    .colab-df-container {\n",
              "      display:flex;\n",
              "      flex-wrap:wrap;\n",
              "      gap: 12px;\n",
              "    }\n",
              "\n",
              "    .colab-df-convert {\n",
              "      background-color: #E8F0FE;\n",
              "      border: none;\n",
              "      border-radius: 50%;\n",
              "      cursor: pointer;\n",
              "      display: none;\n",
              "      fill: #1967D2;\n",
              "      height: 32px;\n",
              "      padding: 0 0 0 0;\n",
              "      width: 32px;\n",
              "    }\n",
              "\n",
              "    .colab-df-convert:hover {\n",
              "      background-color: #E2EBFA;\n",
              "      box-shadow: 0px 1px 2px rgba(60, 64, 67, 0.3), 0px 1px 3px 1px rgba(60, 64, 67, 0.15);\n",
              "      fill: #174EA6;\n",
              "    }\n",
              "\n",
              "    [theme=dark] .colab-df-convert {\n",
              "      background-color: #3B4455;\n",
              "      fill: #D2E3FC;\n",
              "    }\n",
              "\n",
              "    [theme=dark] .colab-df-convert:hover {\n",
              "      background-color: #434B5C;\n",
              "      box-shadow: 0px 1px 3px 1px rgba(0, 0, 0, 0.15);\n",
              "      filter: drop-shadow(0px 1px 2px rgba(0, 0, 0, 0.3));\n",
              "      fill: #FFFFFF;\n",
              "    }\n",
              "  </style>\n",
              "\n",
              "      <script>\n",
              "        const buttonEl =\n",
              "          document.querySelector('#df-ad5663b5-0440-4b3d-9325-3259e28aebcb button.colab-df-convert');\n",
              "        buttonEl.style.display =\n",
              "          google.colab.kernel.accessAllowed ? 'block' : 'none';\n",
              "\n",
              "        async function convertToInteractive(key) {\n",
              "          const element = document.querySelector('#df-ad5663b5-0440-4b3d-9325-3259e28aebcb');\n",
              "          const dataTable =\n",
              "            await google.colab.kernel.invokeFunction('convertToInteractive',\n",
              "                                                     [key], {});\n",
              "          if (!dataTable) return;\n",
              "\n",
              "          const docLinkHtml = 'Like what you see? Visit the ' +\n",
              "            '<a target=\"_blank\" href=https://colab.research.google.com/notebooks/data_table.ipynb>data table notebook</a>'\n",
              "            + ' to learn more about interactive tables.';\n",
              "          element.innerHTML = '';\n",
              "          dataTable['output_type'] = 'display_data';\n",
              "          await google.colab.output.renderOutput(dataTable, element);\n",
              "          const docLink = document.createElement('div');\n",
              "          docLink.innerHTML = docLinkHtml;\n",
              "          element.appendChild(docLink);\n",
              "        }\n",
              "      </script>\n",
              "    </div>\n",
              "  </div>\n",
              "  "
            ],
            "text/plain": [
              "Empty DataFrame\n",
              "Columns: [homeid, roomid, room_type, category, subtype, sensorid]\n",
              "Index: []"
            ]
          },
          "execution_count": 10,
          "metadata": {},
          "output_type": "execute_result"
        }
      ],
      "source": [
        "ideal.view(homeid=105, subtype='sink')"
      ]
    },
    {
      "cell_type": "markdown",
      "metadata": {
        "id": "igCw2P-ya_IO"
      },
      "source": [
        "### Sketch the agile tariff data"
      ]
    },
    {
      "cell_type": "code",
      "execution_count": null,
      "metadata": {
        "id": "XmHYXxn9AgCf"
      },
      "outputs": [],
      "source": [
        "df = pd.read_csv('csv_agile_N_Southern_Scotland.csv')"
      ]
    },
    {
      "cell_type": "code",
      "execution_count": null,
      "metadata": {
        "id": "mK8NAmNaAvfe"
      },
      "outputs": [],
      "source": [
        "df.columns\n",
        "new_column_names = ['time', 'Time', 'N', 'region','price']  # List of new column names\n",
        "\n",
        "# Use the 'rename' method to change the column names\n",
        "df = df.rename(columns=dict(zip(df.columns, new_column_names)))"
      ]
    },
    {
      "cell_type": "code",
      "execution_count": null,
      "metadata": {
        "colab": {
          "base_uri": "https://localhost:8080/",
          "height": 423
        },
        "id": "cdEuRomWgaD0",
        "outputId": "eed027a5-7e51-4556-a186-f3e8f13bbabc"
      },
      "outputs": [
        {
          "data": {
            "text/html": [
              "<div>\n",
              "<style scoped>\n",
              "    .dataframe tbody tr th:only-of-type {\n",
              "        vertical-align: middle;\n",
              "    }\n",
              "\n",
              "    .dataframe tbody tr th {\n",
              "        vertical-align: top;\n",
              "    }\n",
              "\n",
              "    .dataframe thead th {\n",
              "        text-align: right;\n",
              "    }\n",
              "</style>\n",
              "<table border=\"1\" class=\"dataframe\">\n",
              "  <thead>\n",
              "    <tr style=\"text-align: right;\">\n",
              "      <th></th>\n",
              "      <th>time</th>\n",
              "      <th>Time</th>\n",
              "      <th>N</th>\n",
              "      <th>region</th>\n",
              "      <th>price</th>\n",
              "    </tr>\n",
              "  </thead>\n",
              "  <tbody>\n",
              "    <tr>\n",
              "      <th>0</th>\n",
              "      <td>2018-02-21 00:30:00+00:00</td>\n",
              "      <td>00:30</td>\n",
              "      <td>N</td>\n",
              "      <td>Southern_Scotland</td>\n",
              "      <td>10.5735</td>\n",
              "    </tr>\n",
              "    <tr>\n",
              "      <th>1</th>\n",
              "      <td>2018-02-21 01:00:00+00:00</td>\n",
              "      <td>01:00</td>\n",
              "      <td>N</td>\n",
              "      <td>Southern_Scotland</td>\n",
              "      <td>10.6680</td>\n",
              "    </tr>\n",
              "    <tr>\n",
              "      <th>2</th>\n",
              "      <td>2018-02-21 01:30:00+00:00</td>\n",
              "      <td>01:30</td>\n",
              "      <td>N</td>\n",
              "      <td>Southern_Scotland</td>\n",
              "      <td>10.1850</td>\n",
              "    </tr>\n",
              "    <tr>\n",
              "      <th>3</th>\n",
              "      <td>2018-02-21 02:00:00+00:00</td>\n",
              "      <td>02:00</td>\n",
              "      <td>N</td>\n",
              "      <td>Southern_Scotland</td>\n",
              "      <td>10.1430</td>\n",
              "    </tr>\n",
              "    <tr>\n",
              "      <th>4</th>\n",
              "      <td>2018-02-21 02:30:00+00:00</td>\n",
              "      <td>02:30</td>\n",
              "      <td>N</td>\n",
              "      <td>Southern_Scotland</td>\n",
              "      <td>10.1955</td>\n",
              "    </tr>\n",
              "    <tr>\n",
              "      <th>...</th>\n",
              "      <td>...</td>\n",
              "      <td>...</td>\n",
              "      <td>...</td>\n",
              "      <td>...</td>\n",
              "      <td>...</td>\n",
              "    </tr>\n",
              "    <tr>\n",
              "      <th>92582</th>\n",
              "      <td>2023-06-03 19:30:00+00:00</td>\n",
              "      <td>20:30</td>\n",
              "      <td>N</td>\n",
              "      <td>Southern_Scotland</td>\n",
              "      <td>16.3380</td>\n",
              "    </tr>\n",
              "    <tr>\n",
              "      <th>92583</th>\n",
              "      <td>2023-06-03 20:00:00+00:00</td>\n",
              "      <td>21:00</td>\n",
              "      <td>N</td>\n",
              "      <td>Southern_Scotland</td>\n",
              "      <td>16.4010</td>\n",
              "    </tr>\n",
              "    <tr>\n",
              "      <th>92584</th>\n",
              "      <td>2023-06-03 20:30:00+00:00</td>\n",
              "      <td>21:30</td>\n",
              "      <td>N</td>\n",
              "      <td>Southern_Scotland</td>\n",
              "      <td>16.0965</td>\n",
              "    </tr>\n",
              "    <tr>\n",
              "      <th>92585</th>\n",
              "      <td>2023-06-03 21:00:00+00:00</td>\n",
              "      <td>22:00</td>\n",
              "      <td>N</td>\n",
              "      <td>Southern_Scotland</td>\n",
              "      <td>18.1230</td>\n",
              "    </tr>\n",
              "    <tr>\n",
              "      <th>92586</th>\n",
              "      <td>2023-06-03 21:30:00+00:00</td>\n",
              "      <td>22:30</td>\n",
              "      <td>N</td>\n",
              "      <td>Southern_Scotland</td>\n",
              "      <td>16.5375</td>\n",
              "    </tr>\n",
              "  </tbody>\n",
              "</table>\n",
              "<p>92587 rows × 5 columns</p>\n",
              "</div>"
            ],
            "text/plain": [
              "                            time   Time  N             region    price\n",
              "0      2018-02-21 00:30:00+00:00  00:30  N  Southern_Scotland  10.5735\n",
              "1      2018-02-21 01:00:00+00:00  01:00  N  Southern_Scotland  10.6680\n",
              "2      2018-02-21 01:30:00+00:00  01:30  N  Southern_Scotland  10.1850\n",
              "3      2018-02-21 02:00:00+00:00  02:00  N  Southern_Scotland  10.1430\n",
              "4      2018-02-21 02:30:00+00:00  02:30  N  Southern_Scotland  10.1955\n",
              "...                          ...    ... ..                ...      ...\n",
              "92582  2023-06-03 19:30:00+00:00  20:30  N  Southern_Scotland  16.3380\n",
              "92583  2023-06-03 20:00:00+00:00  21:00  N  Southern_Scotland  16.4010\n",
              "92584  2023-06-03 20:30:00+00:00  21:30  N  Southern_Scotland  16.0965\n",
              "92585  2023-06-03 21:00:00+00:00  22:00  N  Southern_Scotland  18.1230\n",
              "92586  2023-06-03 21:30:00+00:00  22:30  N  Southern_Scotland  16.5375\n",
              "\n",
              "[92587 rows x 5 columns]"
            ]
          },
          "execution_count": 6,
          "metadata": {},
          "output_type": "execute_result"
        }
      ],
      "source": [
        "df"
      ]
    },
    {
      "cell_type": "code",
      "execution_count": null,
      "metadata": {
        "id": "LqwWRJtTddlW"
      },
      "outputs": [],
      "source": [
        "def lowest(date):\n",
        "\n",
        "    # Convert the 'time' column to datetime type if it's not already in datetime format\n",
        "    df['time'] = pd.to_datetime(df['time'])\n",
        "    date_to_check = pd.to_datetime(date).date()  # Convert date to datetime.date object\n",
        "\n",
        "    # Filter the DataFrame for the specified date\n",
        "    filtered_df = df[df['time'].dt.date == date_to_check]\n",
        "\n",
        "    # Get the row with the lowest price\n",
        "    lowest_price_row = filtered_df.nsmallest(1, 'price')\n",
        "\n",
        "    # Return the lowest price\n",
        "    return lowest_price_row['price'].values[0]\n",
        "\n",
        "\n",
        "\n",
        "\n",
        "\n",
        "\n"
      ]
    },
    {
      "cell_type": "code",
      "execution_count": null,
      "metadata": {
        "id": "89vEDiwkFwE7"
      },
      "outputs": [],
      "source": [
        "def lowestRange(date, k):\n",
        "\n",
        "    # Convert the 'time' column to datetime type if it's not already in datetime format\n",
        "    df['time'] = pd.to_datetime(df['time'])\n",
        "    date_to_check = pd.to_datetime(date).date()  # Convert date to datetime.date object\n",
        "\n",
        "    # Filter the DataFrame for the specified date\n",
        "    filtered_df = df[df['time'].dt.date == date_to_check]\n",
        "\n",
        "    rolling_mean = filtered_df['price'].rolling(window=k).mean()\n",
        "\n",
        "\n",
        "\n",
        "    return np.min(rolling_mean)\n",
        "\n"
      ]
    },
    {
      "cell_type": "code",
      "execution_count": null,
      "metadata": {
        "id": "34Y6duaNIfWo"
      },
      "outputs": [],
      "source": [
        "def round_down_to_half_hour(timestamp):\n",
        "    # Subtract the minutes modulo 30 to round down to the nearest half-hour\n",
        "    rounded_timestamp = timestamp - pd.to_timedelta(timestamp.minute % 30, unit='m')\n",
        "    # Set the seconds and microseconds to 0 to get the result without minutes and seconds\n",
        "    rounded_timestamp = rounded_timestamp.replace(second=0, microsecond=0)\n",
        "    return rounded_timestamp\n"
      ]
    },
    {
      "cell_type": "code",
      "execution_count": null,
      "metadata": {
        "id": "-5iFIbDWCW7W"
      },
      "outputs": [],
      "source": [
        "\n",
        "def getPrice(time):\n",
        "# Assuming 'df' is the DataFrame containing the data\n",
        "# Assuming 'desired_time' is the time you want to round\n",
        "  desired_time = time\n",
        "\n",
        "  # Convert the 'desired_time' to a pandas Timestamp object\n",
        "  desired_timestamp = pd.to_datetime(desired_time)\n",
        "\n",
        "  # Round the timestamp to the nearest hour using the floor() method\n",
        "  rounded_timestamp = round_down_to_half_hour(desired_timestamp)\n",
        "\n",
        "  # Find the row in the DataFrame that matches the rounded timestamp\n",
        "  row = df[df['time'] == str(rounded_timestamp)+'+00:00']\n",
        "\n",
        "#   if not row.empty():\n",
        "\n",
        "  # Get the corresponding value from the DataFrame\n",
        "  corresponding_value = row['price'].values[0]\n",
        "#   else:\n",
        "#     return None\n",
        "\n",
        "  return corresponding_value\n"
      ]
    },
    {
      "cell_type": "code",
      "execution_count": null,
      "metadata": {
        "colab": {
          "base_uri": "https://localhost:8080/"
        },
        "id": "E1Y69je48v1K",
        "outputId": "728b862b-f6e0-4c2a-e525-ba70cd80e414"
      },
      "outputs": [
        {
          "data": {
            "text/plain": [
              "12.1695"
            ]
          },
          "execution_count": 13,
          "metadata": {},
          "output_type": "execute_result"
        }
      ],
      "source": [
        "getPrice('2020-12-01 19:01:29')"
      ]
    },
    {
      "cell_type": "code",
      "execution_count": null,
      "metadata": {
        "id": "cm2ko2jkgy7A"
      },
      "outputs": [],
      "source": [
        "import csv\n",
        "with open('savings 2022.csv', 'w', newline='') as file:\n",
        "    writer = csv.writer(file)\n",
        "    writer.writerow(['homeid', 'roomid','appliancetype', 'times used', 'years','savings(pences)'])\n"
      ]
    },
    {
      "cell_type": "markdown",
      "metadata": {
        "id": "D1WyVlYjxlc7"
      },
      "source": [
        "**Add hypothesis:**\n",
        "## **1. can not be shifted: microwave, fridgefreezer, electricheater, freezer, toaster, fridge, grill, electricoven, appliance, other**\n",
        "# **2. can be shifted to anytime of tha day: kettle, dishwasher, washingmachine, dehumidifier, washingmachinetumbledrier, tumbledrier**\n",
        "# **3. whose data is not easy to record and not valid for modeling: vacuum cleaner**\n"
      ]
    },
    {
      "cell_type": "code",
      "execution_count": null,
      "metadata": {
        "colab": {
          "base_uri": "https://localhost:8080/",
          "height": 138
        },
        "id": "buFU854jD14O",
        "outputId": "4a3e89b6-3800-4a30-b54f-c9a4a7c6bbbf"
      },
      "outputs": [
        {
          "name": "stderr",
          "output_type": "stream",
          "text": [
            "/content/drive/MyDrive/ideal/IdealDataInterface.py:116: FutureWarning: The behavior of indexing on a MultiIndex with a nested sequence of labels is deprecated and will change in a future version. `series.loc[label, sequence]` will raise if any members of 'sequence' or not present in the index's second level. To retain the old behavior, use `series.index.isin(sequence, level=1)`\n",
            "  return self.sensorid_mapping.loc(axis=0)[homeid, roomid, room_type, category, subtype, sensorid, filename].to_frame().T\n",
            "/content/drive/MyDrive/ideal/IdealDataInterface.py:118: FutureWarning: The behavior of indexing on a MultiIndex with a nested sequence of labels is deprecated and will change in a future version. `series.loc[label, sequence]` will raise if any members of 'sequence' or not present in the index's second level. To retain the old behavior, use `series.index.isin(sequence, level=1)`\n",
            "  return self.sensorid_mapping.loc(axis=0)[homeid, roomid, room_type, category, subtype, sensorid, filename]\n"
          ]
        },
        {
          "data": {
            "text/html": [
              "\n",
              "  <div id=\"df-2b139d70-42b8-4c79-97c1-6b16c9b506a1\">\n",
              "    <div class=\"colab-df-container\">\n",
              "      <div>\n",
              "<style scoped>\n",
              "    .dataframe tbody tr th:only-of-type {\n",
              "        vertical-align: middle;\n",
              "    }\n",
              "\n",
              "    .dataframe tbody tr th {\n",
              "        vertical-align: top;\n",
              "    }\n",
              "\n",
              "    .dataframe thead th {\n",
              "        text-align: right;\n",
              "    }\n",
              "</style>\n",
              "<table border=\"1\" class=\"dataframe\">\n",
              "  <thead>\n",
              "    <tr style=\"text-align: right;\">\n",
              "      <th></th>\n",
              "      <th>homeid</th>\n",
              "      <th>roomid</th>\n",
              "      <th>room_type</th>\n",
              "      <th>category</th>\n",
              "      <th>subtype</th>\n",
              "      <th>sensorid</th>\n",
              "    </tr>\n",
              "  </thead>\n",
              "  <tbody>\n",
              "  </tbody>\n",
              "</table>\n",
              "</div>\n",
              "      <button class=\"colab-df-convert\" onclick=\"convertToInteractive('df-2b139d70-42b8-4c79-97c1-6b16c9b506a1')\"\n",
              "              title=\"Convert this dataframe to an interactive table.\"\n",
              "              style=\"display:none;\">\n",
              "        \n",
              "  <svg xmlns=\"http://www.w3.org/2000/svg\" height=\"24px\"viewBox=\"0 0 24 24\"\n",
              "       width=\"24px\">\n",
              "    <path d=\"M0 0h24v24H0V0z\" fill=\"none\"/>\n",
              "    <path d=\"M18.56 5.44l.94 2.06.94-2.06 2.06-.94-2.06-.94-.94-2.06-.94 2.06-2.06.94zm-11 1L8.5 8.5l.94-2.06 2.06-.94-2.06-.94L8.5 2.5l-.94 2.06-2.06.94zm10 10l.94 2.06.94-2.06 2.06-.94-2.06-.94-.94-2.06-.94 2.06-2.06.94z\"/><path d=\"M17.41 7.96l-1.37-1.37c-.4-.4-.92-.59-1.43-.59-.52 0-1.04.2-1.43.59L10.3 9.45l-7.72 7.72c-.78.78-.78 2.05 0 2.83L4 21.41c.39.39.9.59 1.41.59.51 0 1.02-.2 1.41-.59l7.78-7.78 2.81-2.81c.8-.78.8-2.07 0-2.86zM5.41 20L4 18.59l7.72-7.72 1.47 1.35L5.41 20z\"/>\n",
              "  </svg>\n",
              "      </button>\n",
              "      \n",
              "  <style>\n",
              "    .colab-df-container {\n",
              "      display:flex;\n",
              "      flex-wrap:wrap;\n",
              "      gap: 12px;\n",
              "    }\n",
              "\n",
              "    .colab-df-convert {\n",
              "      background-color: #E8F0FE;\n",
              "      border: none;\n",
              "      border-radius: 50%;\n",
              "      cursor: pointer;\n",
              "      display: none;\n",
              "      fill: #1967D2;\n",
              "      height: 32px;\n",
              "      padding: 0 0 0 0;\n",
              "      width: 32px;\n",
              "    }\n",
              "\n",
              "    .colab-df-convert:hover {\n",
              "      background-color: #E2EBFA;\n",
              "      box-shadow: 0px 1px 2px rgba(60, 64, 67, 0.3), 0px 1px 3px 1px rgba(60, 64, 67, 0.15);\n",
              "      fill: #174EA6;\n",
              "    }\n",
              "\n",
              "    [theme=dark] .colab-df-convert {\n",
              "      background-color: #3B4455;\n",
              "      fill: #D2E3FC;\n",
              "    }\n",
              "\n",
              "    [theme=dark] .colab-df-convert:hover {\n",
              "      background-color: #434B5C;\n",
              "      box-shadow: 0px 1px 3px 1px rgba(0, 0, 0, 0.15);\n",
              "      filter: drop-shadow(0px 1px 2px rgba(0, 0, 0, 0.3));\n",
              "      fill: #FFFFFF;\n",
              "    }\n",
              "  </style>\n",
              "\n",
              "      <script>\n",
              "        const buttonEl =\n",
              "          document.querySelector('#df-2b139d70-42b8-4c79-97c1-6b16c9b506a1 button.colab-df-convert');\n",
              "        buttonEl.style.display =\n",
              "          google.colab.kernel.accessAllowed ? 'block' : 'none';\n",
              "\n",
              "        async function convertToInteractive(key) {\n",
              "          const element = document.querySelector('#df-2b139d70-42b8-4c79-97c1-6b16c9b506a1');\n",
              "          const dataTable =\n",
              "            await google.colab.kernel.invokeFunction('convertToInteractive',\n",
              "                                                     [key], {});\n",
              "          if (!dataTable) return;\n",
              "\n",
              "          const docLinkHtml = 'Like what you see? Visit the ' +\n",
              "            '<a target=\"_blank\" href=https://colab.research.google.com/notebooks/data_table.ipynb>data table notebook</a>'\n",
              "            + ' to learn more about interactive tables.';\n",
              "          element.innerHTML = '';\n",
              "          dataTable['output_type'] = 'display_data';\n",
              "          await google.colab.output.renderOutput(dataTable, element);\n",
              "          const docLink = document.createElement('div');\n",
              "          docLink.innerHTML = docLinkHtml;\n",
              "          element.appendChild(docLink);\n",
              "        }\n",
              "      </script>\n",
              "    </div>\n",
              "  </div>\n",
              "  "
            ],
            "text/plain": [
              "Empty DataFrame\n",
              "Columns: [homeid, roomid, room_type, category, subtype, sensorid]\n",
              "Index: []"
            ]
          },
          "execution_count": 18,
          "metadata": {},
          "output_type": "execute_result"
        }
      ],
      "source": [
        "ideal.view(subtype = ['electric'])"
      ]
    },
    {
      "cell_type": "code",
      "execution_count": null,
      "metadata": {
        "id": "BVMVT-g4Ectl"
      },
      "outputs": [],
      "source": [
        "data1=ideal.get(subtype = ['kettle','washingmachine', 'dehumidifier', 'washingmachinetumbledrier', 'tumbledrier'])\n",
        "# data1=ideal.get(subtype = ['dishwasher'])"
      ]
    },
    {
      "cell_type": "code",
      "execution_count": null,
      "metadata": {
        "id": "U92ERd1hKln7",
        "outputId": "68c96760-3bdc-429b-e506-23a6f9274df5"
      },
      "outputs": [
        {
          "data": {
            "text/plain": [
              "20"
            ]
          },
          "execution_count": 10,
          "metadata": {},
          "output_type": "execute_result"
        }
      ],
      "source": [
        "len(data1)"
      ]
    },
    {
      "cell_type": "code",
      "execution_count": null,
      "metadata": {
        "id": "Buq7xAVyIfWp"
      },
      "outputs": [],
      "source": [
        "import pandas as pd\n",
        "\n",
        "def create_lists_within_time_range(df, dk):\n",
        "    result_lists1 = []\n",
        "    result_lists2 = []\n",
        "\n",
        "    for _, row in dk.iterrows():\n",
        "        start_time = row['start']\n",
        "        end_time = row['end']\n",
        "        current_list1 = []\n",
        "        current_list2 = []\n",
        "        in_range = False\n",
        "\n",
        "        for timestamp, val in zip(df.index, df.values):\n",
        "            if not in_range and abs((timestamp - start_time).total_seconds()) < 30:\n",
        "                in_range = True\n",
        "\n",
        "            if in_range:\n",
        "                current_list1.append(timestamp)\n",
        "                current_list2.append(val)\n",
        "\n",
        "            if in_range and abs((timestamp - end_time).total_seconds()) < 30:\n",
        "                if len(current_list1) > 0 and len(current_list2) > 0:\n",
        "                    result_lists1.append(current_list1)\n",
        "                    result_lists2.append(current_list2)\n",
        "                current_list1 = []\n",
        "                current_list2 = []\n",
        "                in_range = False\n",
        "                break\n",
        "\n",
        "    return result_lists1, result_lists2"
      ]
    },
    {
      "cell_type": "code",
      "execution_count": null,
      "metadata": {
        "id": "RU4C0YhQNpkZ"
      },
      "outputs": [],
      "source": [
        "import pandas as pd\n",
        "\n",
        "def calculate_hours(start_timestamp, end_timestamp):\n",
        "    time_diff = end_timestamp - start_timestamp\n",
        "    hours = time_diff.total_seconds() / 3600\n",
        "    if hours>24:\n",
        "      return 0.5\n",
        "    return hours\n",
        "\n",
        "\n"
      ]
    },
    {
      "cell_type": "code",
      "execution_count": null,
      "metadata": {
        "id": "IrfU-brsG1no"
      },
      "outputs": [],
      "source": [
        "def find_key(dictionary, value):\n",
        "\n",
        "    for key, val in dictionary.items():\n",
        "        if val == value:\n",
        "            return key\n",
        "    return -1\n"
      ]
    },
    {
      "cell_type": "code",
      "execution_count": null,
      "metadata": {
        "id": "vcw8PrlLIfWq",
        "outputId": "1b8a53c5-5f0d-4e87-adbd-497367a8b4b9"
      },
      "outputs": [
        {
          "data": {
            "text/html": [
              "<div>\n",
              "<style scoped>\n",
              "    .dataframe tbody tr th:only-of-type {\n",
              "        vertical-align: middle;\n",
              "    }\n",
              "\n",
              "    .dataframe tbody tr th {\n",
              "        vertical-align: top;\n",
              "    }\n",
              "\n",
              "    .dataframe thead th {\n",
              "        text-align: right;\n",
              "    }\n",
              "</style>\n",
              "<table border=\"1\" class=\"dataframe\">\n",
              "  <thead>\n",
              "    <tr style=\"text-align: right;\">\n",
              "      <th></th>\n",
              "      <th>start</th>\n",
              "      <th>end</th>\n",
              "      <th>Energy (J)</th>\n",
              "    </tr>\n",
              "    <tr>\n",
              "      <th>id</th>\n",
              "      <th></th>\n",
              "      <th></th>\n",
              "      <th></th>\n",
              "    </tr>\n",
              "  </thead>\n",
              "  <tbody>\n",
              "    <tr>\n",
              "      <th>0</th>\n",
              "      <td>2018-02-16 08:30:30</td>\n",
              "      <td>2018-02-16 08:53:10</td>\n",
              "      <td>3176752.0</td>\n",
              "    </tr>\n",
              "    <tr>\n",
              "      <th>1</th>\n",
              "      <td>2018-06-13 19:40:20</td>\n",
              "      <td>2018-06-13 20:05:50</td>\n",
              "      <td>1851246.0</td>\n",
              "    </tr>\n",
              "    <tr>\n",
              "      <th>2</th>\n",
              "      <td>2018-06-13 20:35:10</td>\n",
              "      <td>2018-06-13 20:59:40</td>\n",
              "      <td>1673604.0</td>\n",
              "    </tr>\n",
              "  </tbody>\n",
              "</table>\n",
              "</div>"
            ],
            "text/plain": [
              "                 start                 end  Energy (J)\n",
              "id                                                    \n",
              "0  2018-02-16 08:30:30 2018-02-16 08:53:10   3176752.0\n",
              "1  2018-06-13 19:40:20 2018-06-13 20:05:50   1851246.0\n",
              "2  2018-06-13 20:35:10 2018-06-13 20:59:40   1673604.0"
            ]
          },
          "metadata": {},
          "output_type": "display_data"
        }
      ],
      "source": [
        "sampling_rate = 10\n",
        "homeid = '212'\n",
        "appliance = 'tumbledrier'\n",
        "activations = get_appliance_activations(appliance, [homeid], verbose=1)[homeid]\n",
        "\n",
        "display(activations)"
      ]
    },
    {
      "cell_type": "code",
      "execution_count": null,
      "metadata": {
        "colab": {
          "base_uri": "https://localhost:8080/",
          "height": 1000
        },
        "id": "D4J5RxI9s5fG",
        "outputId": "ccb6f158-ee05-4c86-d5ff-a9eb1de0b14d"
      },
      "outputs": [
        {
          "name": "stdout",
          "output_type": "stream",
          "text": [
            "0\n",
            "1\n",
            "2\n",
            "3\n",
            "4\n",
            "5\n",
            "6\n",
            "7\n",
            "8\n",
            "9\n",
            "10\n",
            "11\n",
            "12\n",
            "13\n",
            "14\n",
            "15\n",
            "16\n",
            "17\n",
            "18\n",
            "19\n"
          ]
        }
      ],
      "source": [
        "# activations partition\n",
        "\n",
        "from datetime import datetime\n",
        "from dateutil.relativedelta import relativedelta\n",
        "\n",
        "timestamps1=[]\n",
        "values1=[]\n",
        "for i in range(len(data1)):\n",
        "    # Get the necessary data from data1\n",
        "    homeid = data1[i]['homeid']\n",
        "    appliance = data1[i]['subtype']\n",
        "    activations = get_appliance_activations(appliance, [homeid], verbose=1)[homeid]\n",
        "\n",
        "    result_lists1, result_lists2 = create_lists_within_time_range(data1[i]['readings'],activations)\n",
        "    timestamps1.append(result_lists1)\n",
        "    values1.append(result_lists2)\n",
        "    print(i)\n",
        "\n",
        "\n",
        "\n",
        "\n"
      ]
    },
    {
      "cell_type": "code",
      "execution_count": null,
      "metadata": {
        "id": "Cmws6FltE0yG"
      },
      "outputs": [],
      "source": [
        "import pickle\n",
        "\n",
        "# Store the lists in a file\n",
        "with open('timestamps1.pkl', 'wb') as f:\n",
        "    pickle.dump(timestamps1, f)\n",
        "\n",
        "with open('values1.pkl', 'wb') as f:\n",
        "    pickle.dump(values1, f)\n",
        "\n",
        "# # Reading the lists back from the file\n",
        "# with open('timestamps1.pkl', 'rb') as f:\n",
        "#     timestamps1 = pickle.load(f)\n",
        "\n",
        "# with open('values1.pkl', 'rb') as f:\n",
        "#     values1 = pickle.load(f)\n"
      ]
    },
    {
      "cell_type": "code",
      "execution_count": null,
      "metadata": {
        "id": "2uW7Ydg4IfWq"
      },
      "outputs": [],
      "source": [
        "import pickle\n",
        "with open('timestamps1.pkl', 'rb') as f:\n",
        "    timestamps1 = pickle.load(f)\n"
      ]
    },
    {
      "cell_type": "code",
      "execution_count": null,
      "metadata": {
        "id": "tZgAXhdlIfWq"
      },
      "outputs": [],
      "source": [
        "with open('values1.pkl', 'rb') as f:\n",
        "    values1 = pickle.load(f)\n"
      ]
    },
    {
      "cell_type": "code",
      "execution_count": null,
      "metadata": {
        "id": "WdVN68z-rasj"
      },
      "outputs": [],
      "source": [
        "timerecords1=[]\n",
        "for i in range(len(data1)):\n",
        "  timerecords_1={}\n",
        "  for j in range(len(data1[i]['readings'].index)):\n",
        "    timerecords_1[data1[i]['readings'].index[j]]=j\n",
        "  timerecords1.append(timerecords_1)"
      ]
    },
    {
      "cell_type": "code",
      "execution_count": null,
      "metadata": {
        "colab": {
          "base_uri": "https://localhost:8080/"
        },
        "id": "b1t76uI41-1M",
        "outputId": "0db84e6c-4dfe-4a48-8edc-9804aaaa407c"
      },
      "outputs": [
        {
          "data": {
            "text/plain": [
              "[150, 72, 125, 74, 193, 11, 58, 18, 74, 32, 199, 120, 221, 107, 4, 8, 146]"
            ]
          },
          "execution_count": 34,
          "metadata": {},
          "output_type": "execute_result"
        }
      ],
      "source": [
        "dates1=[]\n",
        "\n",
        "for i in range(len(timestamps1)):\n",
        "  unique_dates = set()\n",
        "\n",
        "  for k in timestamps1[i]:\n",
        "    for timestamp in k:\n",
        "      date = datetime.strptime(str(timestamp), \"%Y-%m-%d %H:%M:%S\").date()\n",
        "      unique_dates.add(date)\n",
        "\n",
        "  num_dates = len(unique_dates)\n",
        "  dates1.append(num_dates)\n",
        "\n",
        "dates1"
      ]
    },
    {
      "cell_type": "code",
      "execution_count": null,
      "metadata": {
        "colab": {
          "base_uri": "https://localhost:8080/"
        },
        "id": "t9j43IZR__9u",
        "outputId": "e027ecc1-513b-4de8-e0e9-b821ee5f0eff"
      },
      "outputs": [
        {
          "data": {
            "text/plain": [
              "{'homeid': '276',\n",
              " 'roomid': '2561',\n",
              " 'room_type': 'kitchen',\n",
              " 'category': 'electric-appliance',\n",
              " 'subtype': 'washingmachinetumbledrier',\n",
              " 'sensorid': '22067',\n",
              " 'readings': time\n",
              " 2018-05-03 13:45:25      1\n",
              " 2018-05-03 13:45:27      1\n",
              " 2018-05-03 13:45:30      1\n",
              " 2018-05-03 13:46:09      1\n",
              " 2018-05-03 13:46:11      2\n",
              "                       ... \n",
              " 2018-05-22 15:46:23    213\n",
              " 2018-05-22 15:46:24    227\n",
              " 2018-05-22 15:46:37    213\n",
              " 2018-05-22 15:46:39    224\n",
              " 2018-05-22 15:47:01     88\n",
              " Name: washingmachinetumbledrier, Length: 15767, dtype: int64}"
            ]
          },
          "execution_count": 77,
          "metadata": {},
          "output_type": "execute_result"
        }
      ],
      "source": [
        "data1[54]"
      ]
    },
    {
      "cell_type": "code",
      "execution_count": null,
      "metadata": {
        "id": "_3pL31c5_5CO"
      },
      "outputs": [],
      "source": [
        "dates1[35:50]"
      ]
    },
    {
      "cell_type": "code",
      "execution_count": null,
      "metadata": {
        "colab": {
          "base_uri": "https://localhost:8080/"
        },
        "id": "218G9hyFw0qA",
        "outputId": "6cba21f2-86c5-4f51-89f1-b6e11f4d8977"
      },
      "outputs": [
        {
          "data": {
            "text/plain": [
              "118"
            ]
          },
          "execution_count": 23,
          "metadata": {},
          "output_type": "execute_result"
        }
      ],
      "source": [
        "len(timestamps1[59])"
      ]
    },
    {
      "cell_type": "code",
      "execution_count": null,
      "metadata": {
        "id": "6VfAbbFfIfWu",
        "outputId": "f9486089-4fd6-4aa0-fafa-8916ed454a99"
      },
      "outputs": [
        {
          "data": {
            "text/plain": [
              "'2017-08-09 15:16:33'"
            ]
          },
          "execution_count": 26,
          "metadata": {},
          "output_type": "execute_result"
        }
      ],
      "source": [
        "timestamps1[0][0][0].strftime('%Y-%m-%d %H:%M:%S')"
      ]
    },
    {
      "cell_type": "code",
      "execution_count": null,
      "metadata": {
        "id": "JaM7iDPLIfWu"
      },
      "outputs": [],
      "source": [
        "def calculate_length_years(timestamps_list):\n",
        "    if len(timestamps_list) > 0:\n",
        "        first_time = timestamps_list[0][0]\n",
        "        last_time = timestamps_list[-1][-1]\n",
        "        length_years = (last_time - first_time).days / 365.25\n",
        "        return round(length_years, 2)\n",
        "    else:\n",
        "        return None"
      ]
    },
    {
      "cell_type": "code",
      "execution_count": null,
      "metadata": {
        "id": "oshJOceDIfWv",
        "outputId": "37c6cfa8-a66b-4185-c00c-7d12b02cd974"
      },
      "outputs": [
        {
          "data": {
            "text/plain": [
              "{'homeid': '276',\n",
              " 'roomid': '2561',\n",
              " 'room_type': 'kitchen',\n",
              " 'category': 'electric-appliance',\n",
              " 'subtype': 'kettle',\n",
              " 'sensorid': '22075',\n",
              " 'readings': time\n",
              " 2018-05-03 15:32:59       0\n",
              " 2018-05-03 16:32:59       0\n",
              " 2018-05-03 17:33:00       0\n",
              " 2018-05-03 18:33:00       0\n",
              " 2018-05-03 19:33:00       1\n",
              "                        ... \n",
              " 2018-05-22 13:24:06       0\n",
              " 2018-05-22 14:24:06       0\n",
              " 2018-05-22 15:08:02    3005\n",
              " 2018-05-22 15:10:14       1\n",
              " 2018-05-22 15:24:06       0\n",
              " Name: kettle, Length: 242, dtype: int64}"
            ]
          },
          "execution_count": 27,
          "metadata": {},
          "output_type": "execute_result"
        }
      ],
      "source": [
        "data1[4]"
      ]
    },
    {
      "cell_type": "code",
      "execution_count": null,
      "metadata": {
        "id": "iOIa0sSeIfWv"
      },
      "outputs": [],
      "source": [
        "with open('timestamps1.pkl', 'rb') as f:\n",
        "    timestamps1 = pickle.load(f)\n"
      ]
    },
    {
      "cell_type": "code",
      "execution_count": null,
      "metadata": {
        "id": "cykLMvY835pK"
      },
      "outputs": [],
      "source": [
        "# main calculation\n",
        "\n",
        "import math\n",
        "import numpy as np\n",
        "\n",
        "import csv\n",
        "from datetime import datetime, timedelta\n",
        "\n",
        "with open('savings 2022.csv', 'a', newline='') as file:\n",
        "    writer = csv.writer(file)\n",
        "# 58\n",
        "    for t in range(len(timestamps1)):\n",
        "      info=[]\n",
        "      info.append(data1[t]['homeid'])\n",
        "      info.append(data1[t]['roomid'])\n",
        "      info.append(data1[t]['subtype'])\n",
        "      saving = 0\n",
        "\n",
        "      timestamps = timestamps1[t]\n",
        "      year=calculate_length_years(timestamps)\n",
        "\n",
        "      values = values1[t]\n",
        "      for i in range(len(timestamps)):\n",
        "        if len(timestamps[i])>1:\n",
        "          k = math.ceil(calculate_hours(timestamps[i][0], timestamps[i][len(timestamps[i])-1]) * 2)\n",
        "          demand=[]\n",
        "          price=0\n",
        "          for j in range(len(timestamps[i])):\n",
        "                lasttime = pd.Timestamp(find_key(timerecords1[t], timerecords1[t][timestamps[i][j]] + 1))\n",
        "\n",
        "                hours = calculate_hours(timestamps[i][j],lasttime)\n",
        "                timestamps[i][j]=timestamps[i][j].replace(year=2022)\n",
        "                time = timestamps[i][j].strftime('%Y-%m-%d %H:%M:%S')\n",
        "                if hours<1 and getPrice(time) is not None:\n",
        "                    demand.append(values[i][j] * hours / 1000)\n",
        "                    price+=values[i][j] * hours / 1000*getPrice(time)\n",
        "          df['time'] = pd.to_datetime(df['time'])\n",
        "          filtered_df = df[df['time'].dt.date == timestamps[i][0].date()]\n",
        "#           print(timestamps[i][0].date())\n",
        "          tariff = filtered_df['price'].tolist()\n",
        "          if len(demand) > 0:\n",
        "              demand_interval = k / len(demand)  # Time interval for demand data\n",
        "          else:\n",
        "            continue\n",
        "          tariff_interval = 48 / len(tariff)  # Time interval for tariff data\n",
        "\n",
        "# Resample demand to match the time interval of tariff\n",
        "          resampled_demand = np.repeat(demand, int(len(tariff) * tariff_interval / demand_interval))\n",
        "\n",
        "# Perform the convolution\n",
        "          convolution_result = np.convolve(np.abs(resampled_demand), np.abs(tariff), mode='valid')\n",
        "          # Set a threshold to filter out very low values\n",
        "        # Set a threshold to filter out very low values\n",
        "          threshold = 0.001  # You can adjust this threshold based on your data\n",
        "          convolution_result_filtered = [x for x in convolution_result if x > threshold]\n",
        "\n",
        "          if len(convolution_result_filtered) > 0:\n",
        "# Find the cheapest period\n",
        "            cheapest_period_index = np.argmin(convolution_result_filtered)\n",
        "            cheapest_period_value = convolution_result[cheapest_period_index]\n",
        "#             print(price)\n",
        "#             print(cheapest_period_value)\n",
        "            if  price-cheapest_period_value>0 and cheapest_period_value <10:\n",
        "                  saving+=(price-cheapest_period_value)\n",
        "\n",
        "\n",
        "\n",
        "      print(saving)\n",
        "      info.append(len(timestamps))\n",
        "      info.append(year)\n",
        "      info.append(format(saving, '.2f'))\n",
        "      writer.writerow(info)\n",
        "      file.flush()"
      ]
    },
    {
      "cell_type": "code",
      "execution_count": null,
      "metadata": {
        "id": "mLTOkfjBIfWv",
        "outputId": "02f47e2e-e00e-4fd3-be6d-67572bc09df2"
      },
      "outputs": [
        {
          "name": "stdout",
          "output_type": "stream",
          "text": [
            "96,999,kettle,87,0.13\n",
            "73,781,kettle,439,1.32\n",
            "105,1110,kettle,1621,1.1\n",
            "268,2471,kettle,160,0.17\n",
            "276,2561,kettle,7,0.05\n",
            "90,957,kettle,919,1.22\n",
            "264,2437,kettle,435,0.27\n",
            "65,733,kettle,2227,1.41\n",
            "61,695,kettle,1371,0.71\n",
            "328,2980,kettle,25,0.02\n",
            "262,2414,kettle,10,0.0\n",
            "63,720,kettle,1103,1.37\n",
            "231,2147,kettle,532,0.21\n",
            "249,2305,kettle,373,0.14\n",
            "311,2857,kettle,21,0.02\n",
            "62,710,kettle,1792,1.71\n",
            "259,2487,kettle,75,0.07\n",
            "175,1636,kettle,854,0.74\n",
            "208,1935,kettle,548,0.44\n",
            "227,2103,kettle,461,0.27\n",
            "136,1294,kettle,130,0.03\n",
            "128,1253,kettle,489,0.88\n",
            "162,1622,kettle,0,None\n",
            "136,1294,kettle,25,0.01\n",
            "168,1534,kettle,619,0.24\n",
            "168,1534,kettle,6,0.0\n",
            "146,1355,kettle,1134,0.58\n",
            "106,1085,kettle,458,1.07\n",
            "73,781,washingmachine,139,1.33\n",
            "105,1110,washingmachine,99,1.03\n",
            "106,1085,washingmachine,175,1.05\n",
            "136,1294,washingmachine,37,0.85\n",
            "128,1253,washingmachine,14,0.41\n",
            "139,1315,washingmachine,63,0.67\n",
            "175,1636,washingmachine,118,0.61\n",
            "171,1565,washingmachine,64,0.54\n",
            "145,1349,washingmachine,40,0.64\n",
            "208,1935,washingmachine,73,0.27\n",
            "227,2103,washingmachine,51,0.12\n",
            "238,2202,washingmachine,18,0.18\n",
            "242,2241,washingmachine,174,0.39\n",
            "212,1968,washingmachine,103,0.53\n",
            "227,2103,washingmachine,61,0.43\n",
            "231,2147,washingmachine,64,0.28\n",
            "96,999,washingmachine,172,0.41\n",
            "228,2109,washingmachine,90,0.49\n",
            "268,2471,washingmachine,17,0.15\n",
            "65,733,washingmachine,187,1.08\n",
            "264,2437,washingmachine,54,0.27\n",
            "62,710,washingmachine,250,1.7\n",
            "255,2363,washingmachine,19,0.14\n",
            "311,2857,washingmachine,9,0.02\n",
            "175,1641,dehumidifier,526,0.53\n",
            "136,1291,dehumidifier,78,0.22\n",
            "276,2561,washingmachinetumbledrier,16,0.05\n",
            "263,2428,washingmachinetumbledrier,74,0.25\n",
            "266,2454,washingmachinetumbledrier,21,0.15\n",
            "249,2305,washingmachinetumbledrier,79,0.41\n",
            "168,1534,washingmachinetumbledrier,56,0.09\n"
          ]
        }
      ],
      "source": [
        "for i in range(59):\n",
        "    print(data1[i]['homeid'],data1[i]['roomid'],data1[i]['subtype'],len(timestamps1[i]),calculate_length_years(timestamps1[i]),sep=',')"
      ]
    },
    {
      "cell_type": "code",
      "execution_count": null,
      "metadata": {
        "id": "58LlwznS4ZRk"
      },
      "outputs": [],
      "source": []
    }
  ],
  "metadata": {
    "colab": {
      "gpuType": "T4",
      "provenance": []
    },
    "kernelspec": {
      "display_name": "Python 3 (ipykernel)",
      "language": "python",
      "name": "python3"
    },
    "language_info": {
      "codemirror_mode": {
        "name": "ipython",
        "version": 3
      },
      "file_extension": ".py",
      "mimetype": "text/x-python",
      "name": "python",
      "nbconvert_exporter": "python",
      "pygments_lexer": "ipython3",
      "version": "3.10.8"
    }
  },
  "nbformat": 4,
  "nbformat_minor": 0
}